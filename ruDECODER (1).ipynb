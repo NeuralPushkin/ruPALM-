{
  "cells": [
    {
      "cell_type": "code",
      "execution_count": null,
      "source": [
        "!pip install pytorch-lightning\n",
        "!pip install transformers\n",
        "\n",
        "!pip install wandb\n",
        "!pip install bitsandbytes-cuda113"
      ],
      "outputs": [],
      "metadata": {
        "id": "47aff858-055f-47da-afcb-08f8c76b0a99"
      }
    },
    {
      "cell_type": "code",
      "execution_count": null,
      "source": [
        "!pip install x-transformers==0.25.2"
      ],
      "outputs": [],
      "metadata": {}
    },
    {
      "cell_type": "code",
      "execution_count": 1,
      "source": [
        "!gdown https://drive.google.com/uc?id=1-3DvN7vCzagRmVpITSjbT7Z6qpaiUS4x"
      ],
      "outputs": [
        {
          "output_type": "stream",
          "name": "stdout",
          "text": [
            "/usr/lib/python3/dist-packages/requests/__init__.py:89: RequestsDependencyWarning: urllib3 (1.26.9) or chardet (3.0.4) doesn't match a supported version!\n",
            "  warnings.warn(\"urllib3 ({}) or chardet ({}) doesn't match a supported \"\n",
            "Downloading...\n",
            "From: https://drive.google.com/uc?id=1-3DvN7vCzagRmVpITSjbT7Z6qpaiUS4x\n",
            "To: /home/alex/experements_/palm/wiki_prepared.txt\n",
            "100%|██████████████████████████████████████| 7.48G/7.48G [05:51<00:00, 21.3MB/s]\n"
          ]
        }
      ],
      "metadata": {
        "colab": {
          "base_uri": "https://localhost:8080/"
        },
        "id": "eNezm1qyNXyA",
        "outputId": "4555bbd5-e089-4488-95d5-1acc49616035"
      }
    },
    {
      "cell_type": "code",
      "execution_count": 2,
      "source": [
        "!wget -nc https://www.dropbox.com/s/cmpfvzxdknkeal4/gazeta_jsonl.tar.gz\n",
        "!tar -xzvf gazeta_jsonl.tar.gz"
      ],
      "outputs": [
        {
          "output_type": "stream",
          "name": "stdout",
          "text": [
            "File ‘gazeta_jsonl.tar.gz’ already there; not retrieving.\n",
            "\n",
            "gazeta_train.jsonl\n",
            "gazeta_test.jsonl\n",
            "gazeta_val.jsonl\n"
          ]
        }
      ],
      "metadata": {
        "id": "n11GnWXH0gVD"
      }
    },
    {
      "cell_type": "code",
      "execution_count": 2,
      "source": [
        "a = [1,2,2]\n",
        "from tqdm import tqdm\n",
        "\n",
        "for i in tqdm(a):\n",
        "    print(i)\n",
        "    "
      ],
      "outputs": [
        {
          "output_type": "stream",
          "name": "stderr",
          "text": [
            "100%|██████████| 3/3 [00:00<00:00, 21435.97it/s]"
          ]
        },
        {
          "output_type": "stream",
          "name": "stdout",
          "text": [
            "1\n",
            "2\n",
            "2\n"
          ]
        },
        {
          "output_type": "stream",
          "name": "stderr",
          "text": [
            "\n"
          ]
        }
      ],
      "metadata": {
        "colab": {
          "base_uri": "https://localhost:8080/",
          "height": 235
        },
        "id": "Ssym-XUT0hXK",
        "outputId": "872d69f1-c9b0-43c3-9e6e-4b597360743d"
      }
    },
    {
      "cell_type": "code",
      "execution_count": null,
      "source": [
        "!wandb login\n",
        "\n"
      ],
      "outputs": [
        {
          "output_type": "stream",
          "name": "stdout",
          "text": [
            "\u001b[34m\u001b[1mwandb\u001b[0m: You can find your API key in your browser here: https://wandb.ai/authorize\n",
            "\u001b[34m\u001b[1mwandb\u001b[0m: Paste an API key from your profile and hit enter, or press ctrl+c to quit: \n",
            "\u001b[34m\u001b[1mwandb\u001b[0m: Appending key for api.wandb.ai to your netrc file: /root/.netrc\n"
          ]
        }
      ],
      "metadata": {
        "colab": {
          "base_uri": "https://localhost:8080/"
        },
        "id": "iLdwdx-INLu7",
        "outputId": "1c2e7af1-1b4e-454a-f6f9-d56ac28af3d1"
      }
    },
    {
      "cell_type": "code",
      "execution_count": null,
      "source": [
        "#"
      ],
      "outputs": [],
      "metadata": {
        "id": "MKxzAq0SjRax"
      }
    },
    {
      "cell_type": "code",
      "execution_count": null,
      "source": [
        "import os\n",
        "\n",
        "import pandas as pd\n",
        "import torch\n",
        "from torch.utils.data import Dataset, random_split\n",
        "from transformers import  GPT2TokenizerFast\n",
        "\n",
        "BASE_MODEL = \"sberbank-ai/rugpt3small_based_on_gpt2\"\n",
        "\n",
        "tokenizer = GPT2TokenizerFast.from_pretrained(BASE_MODEL, bos_token='<|endoftext|>', eos_token='<|endoftext|>', pad_token='<|pad|>')\n",
        "\n"
      ],
      "outputs": [
        {
          "output_type": "display_data",
          "data": {
            "text/plain": [
              "Downloading:   0%|          | 0.00/1.63M [00:00<?, ?B/s]"
            ],
            "application/vnd.jupyter.widget-view+json": {
              "model_id": "d7b8a1001f91468c9a0c91990ff75b7a",
              "version_major": 2,
              "version_minor": 0
            }
          },
          "metadata": {}
        },
        {
          "output_type": "display_data",
          "data": {
            "text/plain": [
              "Downloading:   0%|          | 0.00/1.21M [00:00<?, ?B/s]"
            ],
            "application/vnd.jupyter.widget-view+json": {
              "model_id": "72f6d95740754f7482f569cbbbd86857",
              "version_major": 2,
              "version_minor": 0
            }
          },
          "metadata": {}
        },
        {
          "output_type": "display_data",
          "data": {
            "text/plain": [
              "Downloading:   0%|          | 0.00/608 [00:00<?, ?B/s]"
            ],
            "application/vnd.jupyter.widget-view+json": {
              "model_id": "3761a2bc9d9f41f3aa5d9e0095931e8b",
              "version_major": 2,
              "version_minor": 0
            }
          },
          "metadata": {}
        },
        {
          "output_type": "stream",
          "name": "stderr",
          "text": [
            "Special tokens have been added in the vocabulary, make sure the associated word embeddings are fine-tuned or trained.\n",
            "Special tokens have been added in the vocabulary, make sure the associated word embeddings are fine-tuned or trained.\n"
          ]
        }
      ],
      "metadata": {
        "colab": {
          "base_uri": "https://localhost:8080/",
          "height": 149,
          "referenced_widgets": [
            "d7b8a1001f91468c9a0c91990ff75b7a",
            "8b8e0d9a7c034d438a4a1f085dfc7fb5",
            "45191ef2553242b8af3ca4e9f7f06540",
            "814b821538e04f48925c46a78d6920f8",
            "16788087713d4d9fbfc99b1235224e49",
            "b87a199978c04586b11c46ff8fb89ebb",
            "d0b12c16a0644a96b513b931f24ef56f",
            "9a79a7cec23e4f88b0aea924a31f5ba4",
            "026a7b828cd448708b589d183becb2eb",
            "ff4569da655843b78192ea16b6a97cba",
            "ddca0def4ba8482da6a55710dc39f038",
            "72f6d95740754f7482f569cbbbd86857",
            "5c715a1d4b954703848e4a5ebcdf8c53",
            "38dfa0681daa4698ba6922638c959fad",
            "1aa80b9f9ee54113aa0c613a50f54360",
            "9f4c6ea65a5c438d99239d43f3202423",
            "e5702faf42da4841affb55b5174ae7ba",
            "f8ac22c830c24331833e92929bb9c1c2",
            "378f14a056b242369ec0d50d98483ce9",
            "e8eb65087dcd4c7589d79430cbf58fd6",
            "99a9676549be4a54899ab4f8b05adf9a",
            "19fafbdadadb435b831b2ea30e094226",
            "3761a2bc9d9f41f3aa5d9e0095931e8b",
            "a6e18b404ecd4c93bc795decacd02b06",
            "9cf199464ec24a5abde62fe0827ad447",
            "6b7516ef07ec4bacae525b699b61558d",
            "0c9d97863d8a48f58416b10d26587bd1",
            "48b744064e4549e48c772907622831b5",
            "865e90f549d449af9b1769c68c25d3a7",
            "d5bae80c73674567bf75508d21d23c02",
            "4b11486ac8b540adab28b77e52e3ef12",
            "8dbdd94a711c4de0979edc584c2001f2",
            "88a1de764bf847c9a1496a7176ad0030"
          ]
        },
        "id": "ybjgUaRpK9Ca",
        "outputId": "f06cdb26-1323-4d7e-e313-0ef41dfe5a55"
      }
    },
    {
      "cell_type": "code",
      "execution_count": null,
      "source": [
        "class SumDataset(Dataset):\n",
        "    def __init__(self):\n",
        "      self.max_length = 1024\n",
        "      self.prepared = []\n",
        "      df = pd.read_json('gazeta_train.jsonl',lines=True)\n",
        "      \n",
        "      for sum, text in zip(df['summary'],df['text']):\n",
        "        pr = f'<s>{text} короче говоря {sum}'\n",
        "        \n",
        "        enc = self._encode(text=pr)\n",
        "        if len(enc)<1024:\n",
        "          self.prepared+=[enc]\n",
        "      \n",
        "\n",
        "    def __len__(self):\n",
        "        return len(self.prepared)\n",
        "\n",
        "    def __getitem__(self, item):\n",
        "        return torch.tensor(self.prepared[item], dtype=torch.long)\n",
        "\n",
        "    def _encode(self, text):\n",
        "        \n",
        "        encoded_sample = tokenizer.encode(text, truncation=True, max_length=self.max_length, padding=\"max_length\")\n",
        "\n",
        "        return encoded_sample"
      ],
      "outputs": [],
      "metadata": {
        "id": "Q1IxO4C70NJJ"
      }
    },
    {
      "cell_type": "code",
      "execution_count": null,
      "source": [
        "from tqdm import tqdm\n",
        "\n",
        "class Dataset_processing(Dataset):\n",
        "    def __init__(self):\n",
        "        super().__init__()\n",
        "\n",
        "        \n",
        "\n",
        "        self.exmpls = []\n",
        "        self.eos = tokenizer.eos_token\n",
        "        \n",
        "        \n",
        "        \n",
        "        \n",
        "        with open('wiki_prepared.txt') as f:\n",
        "          lines = f.readlines()\n",
        "        data = []\n",
        "        for mes in lines[:100000]:\n",
        "            data+=[mes]\n",
        "        \n",
        "        descriptions = data\n",
        "        \n",
        "        \n",
        "        self.max_length = 1024\n",
        "        \n",
        "        for text in tqdm(descriptions,desc='Tokenizing'):\n",
        "          txt = text + self.eos\n",
        "\n",
        "          try:\n",
        "            encoded = tokenizer.encode(txt,  truncation=True, max_length=self.max_length, padding=\"max_length\")\n",
        "            self.exmpls.append(encoded)\n",
        "          except Exception as e:\n",
        "            print(e)\n",
        "          \n",
        "\n",
        "          \n",
        "        \n",
        "        \n",
        "    def __len__(self):\n",
        "        return len(self.exmpls)\n",
        "\n",
        "    def __getitem__(self, idx):\n",
        "        return torch.tensor(self.exmpls[idx], dtype=torch.long)"
      ],
      "outputs": [],
      "metadata": {
        "id": "1c936cda-f846-4f1a-8484-7dd87686b414"
      }
    },
    {
      "cell_type": "code",
      "execution_count": null,
      "source": [
        "#data_wiki = Dataset_processing()"
      ],
      "outputs": [],
      "metadata": {
        "id": "6Ytb4vGAOjrx"
      }
    },
    {
      "cell_type": "code",
      "execution_count": null,
      "source": [
        "#train_dev_sets = torch.utils.data.ConcatDataset([s, data_wiki])"
      ],
      "outputs": [],
      "metadata": {
        "id": "-lVK9gp-1KeF"
      }
    },
    {
      "cell_type": "code",
      "execution_count": null,
      "source": [
        "class Args():\n",
        "  def __init__(self):\n",
        "    self.train_batch_size = 4\n",
        "    self.lr = 1e-4\n",
        "    self.n_training_steps = 10\n",
        "\n",
        "args = Args()\n",
        "\n",
        "#args.n_training_steps = 100000//args.train_batch_size\n",
        "#args.n_warmup_steps = args.n_training_steps//5"
      ],
      "outputs": [],
      "metadata": {
        "id": "z3tUOkjGYGsK"
      }
    },
    {
      "cell_type": "code",
      "execution_count": null,
      "source": [
        "#from sklearn.model_selection import train_test_split\n",
        "#train_dataset, val_dataset = train_test_split(data_wiki, test_size=100, random_state=42, shuffle=True)"
      ],
      "outputs": [],
      "metadata": {
        "id": "d1580e5a-7bc7-407d-b644-61bd77af5a5f"
      }
    },
    {
      "cell_type": "code",
      "execution_count": null,
      "source": [
        "#tokenizer.encode_plus('how to poop')"
      ],
      "outputs": [
        {
          "output_type": "execute_result",
          "data": {
            "text/plain": [
              "{'input_ids': [76, 1170, 710, 12933, 1661], 'attention_mask': [1, 1, 1, 1, 1]}"
            ]
          },
          "metadata": {},
          "execution_count": 10
        }
      ],
      "metadata": {
        "colab": {
          "base_uri": "https://localhost:8080/"
        },
        "id": "CtcUIuQZZH3y",
        "outputId": "e0bdc24f-8adc-47ee-b7e9-6cf0171a2d47"
      }
    },
    {
      "cell_type": "code",
      "execution_count": null,
      "source": [],
      "outputs": [],
      "metadata": {
        "id": "p4J-paz4ZN8E"
      }
    },
    {
      "cell_type": "code",
      "execution_count": null,
      "source": [
        "#args.n_training_steps "
      ],
      "outputs": [
        {
          "output_type": "execute_result",
          "data": {
            "text/plain": [
              "10000"
            ]
          },
          "metadata": {},
          "execution_count": 11
        }
      ],
      "metadata": {
        "colab": {
          "base_uri": "https://localhost:8080/"
        },
        "id": "jWg5rmG8ROyb",
        "outputId": "e70d957e-07ae-4e28-8c84-81db2e4a4269"
      }
    },
    {
      "cell_type": "code",
      "execution_count": null,
      "source": [
        "import pytorch_lightning as pl\n",
        "from torch.utils.data import Dataset, DataLoader\n",
        "class DecoderDataModule(pl.LightningDataModule):\n",
        "\n",
        "  def __init__(self, args,data = None):\n",
        "    super().__init__()\n",
        "   \n",
        "\n",
        "  def setup(self, stage=None):\n",
        "    \n",
        "    print('preparing data')\n",
        "    self.wiki = Dataset_processing()\n",
        "    self.sum = SumDataset()\n",
        "    self.train_dataset = torch.utils.data.ConcatDataset([self.sum, self.wiki])\n",
        "    \n",
        "    args.n_training_steps = len(self.train_dataset)//args.train_batch_size\n",
        "    args.n_warmup_steps = args.n_training_steps//10\n",
        "\n",
        "   \n",
        "  def train_dataloader(self):\n",
        "    return DataLoader(\n",
        "      self.train_dataset,\n",
        "      batch_size=args.train_batch_size,\n",
        "      shuffle=True\n",
        "    )\n",
        "\n",
        "  '''def val_dataloader(self):\n",
        "    return DataLoader(\n",
        "      self.test_dataset,\n",
        "      batch_size=args.eval_batch_size,\n",
        "      num_workers=2\n",
        "    )\n",
        "\n",
        "  def test_dataloader(self):\n",
        "    return DataLoader(\n",
        "      self.test_dataset,\n",
        "      batch_size=self.eval_batch_size,\n",
        "      num_workers=2\n",
        "    )'''"
      ],
      "outputs": [],
      "metadata": {
        "id": "ca0b50b7-b96e-4e8c-987e-bf614c8ddb0d"
      }
    },
    {
      "cell_type": "code",
      "execution_count": null,
      "source": [
        "#wiki = Dataset_processing()\n",
        "#sum = SumDataset()\n",
        "#train_dataset = torch.utils.data.ConcatDataset([sum, wiki])\n",
        "    "
      ],
      "outputs": [
        {
          "output_type": "error",
          "ename": "KeyboardInterrupt",
          "evalue": "ignored",
          "traceback": [
            "\u001b[0;31m---------------------------------------------------------------------------\u001b[0m",
            "\u001b[0;31mKeyboardInterrupt\u001b[0m                         Traceback (most recent call last)",
            "\u001b[0;32m<ipython-input-61-b1f18a26757f>\u001b[0m in \u001b[0;36m<module>\u001b[0;34m()\u001b[0m\n\u001b[0;32m----> 1\u001b[0;31m \u001b[0mwiki\u001b[0m \u001b[0;34m=\u001b[0m \u001b[0mDataset_processing\u001b[0m\u001b[0;34m(\u001b[0m\u001b[0;34m)\u001b[0m\u001b[0;34m\u001b[0m\u001b[0;34m\u001b[0m\u001b[0m\n\u001b[0m\u001b[1;32m      2\u001b[0m \u001b[0msum\u001b[0m \u001b[0;34m=\u001b[0m \u001b[0mSumDataset\u001b[0m\u001b[0;34m(\u001b[0m\u001b[0;34m)\u001b[0m\u001b[0;34m\u001b[0m\u001b[0;34m\u001b[0m\u001b[0m\n\u001b[1;32m      3\u001b[0m \u001b[0mtrain_dataset\u001b[0m \u001b[0;34m=\u001b[0m \u001b[0mtorch\u001b[0m\u001b[0;34m.\u001b[0m\u001b[0mutils\u001b[0m\u001b[0;34m.\u001b[0m\u001b[0mdata\u001b[0m\u001b[0;34m.\u001b[0m\u001b[0mConcatDataset\u001b[0m\u001b[0;34m(\u001b[0m\u001b[0;34m[\u001b[0m\u001b[0msum\u001b[0m\u001b[0;34m,\u001b[0m \u001b[0mwiki\u001b[0m\u001b[0;34m]\u001b[0m\u001b[0;34m)\u001b[0m\u001b[0;34m\u001b[0m\u001b[0;34m\u001b[0m\u001b[0m\n\u001b[1;32m      4\u001b[0m \u001b[0;34m\u001b[0m\u001b[0m\n",
            "\u001b[0;32m<ipython-input-31-4db825d05a43>\u001b[0m in \u001b[0;36m__init__\u001b[0;34m(self)\u001b[0m\n\u001b[1;32m     14\u001b[0m \u001b[0;34m\u001b[0m\u001b[0m\n\u001b[1;32m     15\u001b[0m         \u001b[0;32mwith\u001b[0m \u001b[0mopen\u001b[0m\u001b[0;34m(\u001b[0m\u001b[0;34m'wiki_prepared.txt'\u001b[0m\u001b[0;34m)\u001b[0m \u001b[0;32mas\u001b[0m \u001b[0mf\u001b[0m\u001b[0;34m:\u001b[0m\u001b[0;34m\u001b[0m\u001b[0;34m\u001b[0m\u001b[0m\n\u001b[0;32m---> 16\u001b[0;31m           \u001b[0mlines\u001b[0m \u001b[0;34m=\u001b[0m \u001b[0mf\u001b[0m\u001b[0;34m.\u001b[0m\u001b[0mreadlines\u001b[0m\u001b[0;34m(\u001b[0m\u001b[0;34m)\u001b[0m\u001b[0;34m\u001b[0m\u001b[0;34m\u001b[0m\u001b[0m\n\u001b[0m\u001b[1;32m     17\u001b[0m         \u001b[0mdata\u001b[0m \u001b[0;34m=\u001b[0m \u001b[0;34m[\u001b[0m\u001b[0;34m]\u001b[0m\u001b[0;34m\u001b[0m\u001b[0;34m\u001b[0m\u001b[0m\n\u001b[1;32m     18\u001b[0m         \u001b[0;32mfor\u001b[0m \u001b[0mmes\u001b[0m \u001b[0;32min\u001b[0m \u001b[0mlines\u001b[0m\u001b[0;34m[\u001b[0m\u001b[0;34m:\u001b[0m\u001b[0;36m100000\u001b[0m\u001b[0;34m]\u001b[0m\u001b[0;34m:\u001b[0m\u001b[0;34m\u001b[0m\u001b[0;34m\u001b[0m\u001b[0m\n",
            "\u001b[0;32m/usr/lib/python3.7/codecs.py\u001b[0m in \u001b[0;36mdecode\u001b[0;34m(self, input, final)\u001b[0m\n\u001b[1;32m    320\u001b[0m         \u001b[0;31m# decode input (taking the buffer into account)\u001b[0m\u001b[0;34m\u001b[0m\u001b[0;34m\u001b[0m\u001b[0;34m\u001b[0m\u001b[0m\n\u001b[1;32m    321\u001b[0m         \u001b[0mdata\u001b[0m \u001b[0;34m=\u001b[0m \u001b[0mself\u001b[0m\u001b[0;34m.\u001b[0m\u001b[0mbuffer\u001b[0m \u001b[0;34m+\u001b[0m \u001b[0minput\u001b[0m\u001b[0;34m\u001b[0m\u001b[0;34m\u001b[0m\u001b[0m\n\u001b[0;32m--> 322\u001b[0;31m         \u001b[0;34m(\u001b[0m\u001b[0mresult\u001b[0m\u001b[0;34m,\u001b[0m \u001b[0mconsumed\u001b[0m\u001b[0;34m)\u001b[0m \u001b[0;34m=\u001b[0m \u001b[0mself\u001b[0m\u001b[0;34m.\u001b[0m\u001b[0m_buffer_decode\u001b[0m\u001b[0;34m(\u001b[0m\u001b[0mdata\u001b[0m\u001b[0;34m,\u001b[0m \u001b[0mself\u001b[0m\u001b[0;34m.\u001b[0m\u001b[0merrors\u001b[0m\u001b[0;34m,\u001b[0m \u001b[0mfinal\u001b[0m\u001b[0;34m)\u001b[0m\u001b[0;34m\u001b[0m\u001b[0;34m\u001b[0m\u001b[0m\n\u001b[0m\u001b[1;32m    323\u001b[0m         \u001b[0;31m# keep undecoded input until the next call\u001b[0m\u001b[0;34m\u001b[0m\u001b[0;34m\u001b[0m\u001b[0;34m\u001b[0m\u001b[0m\n\u001b[1;32m    324\u001b[0m         \u001b[0mself\u001b[0m\u001b[0;34m.\u001b[0m\u001b[0mbuffer\u001b[0m \u001b[0;34m=\u001b[0m \u001b[0mdata\u001b[0m\u001b[0;34m[\u001b[0m\u001b[0mconsumed\u001b[0m\u001b[0;34m:\u001b[0m\u001b[0;34m]\u001b[0m\u001b[0;34m\u001b[0m\u001b[0;34m\u001b[0m\u001b[0m\n",
            "\u001b[0;31mKeyboardInterrupt\u001b[0m: "
          ]
        }
      ],
      "metadata": {
        "colab": {
          "base_uri": "https://localhost:8080/",
          "height": 374
        },
        "id": "40c26abd-0b80-4a0b-a92d-a1beef3e1f39",
        "outputId": "70c0c9bb-e450-43a6-b86b-d5b8248d32c8"
      }
    },
    {
      "cell_type": "code",
      "execution_count": null,
      "source": [
        "train_dataloader = DataLoader(\n",
        "      train_dataset,\n",
        "      batch_size=args.train_batch_size,\n",
        "      shuffle=True\n",
        "    )"
      ],
      "outputs": [],
      "metadata": {
        "id": "nrf1SokMmbas"
      }
    },
    {
      "cell_type": "code",
      "execution_count": null,
      "source": [
        "from x_transformers import TransformerWrapper, Decoder\n",
        "from x_transformers.autoregressive_wrapper import AutoregressiveWrapper\n",
        "\n",
        "gpt = AutoregressiveWrapper(\n",
        "      TransformerWrapper(\n",
        "        num_tokens = 50259,\n",
        "        max_seq_len = 1024,\n",
        "        attn_layers = Decoder(\n",
        "            dim = 512,\n",
        "            depth = 12,\n",
        "            heads = 8,\n",
        "            #ff_swish = True, # set this to True\n",
        "           # ff_glu = True  \n",
        "               \n",
        "        )\n",
        "    ))"
      ],
      "outputs": [],
      "metadata": {
        "id": "K2N3bmM-mYpM"
      }
    },
    {
      "cell_type": "code",
      "execution_count": null,
      "source": [
        "\n"
      ],
      "outputs": [],
      "metadata": {
        "id": "jhHId6C7pBKd"
      }
    },
    {
      "cell_type": "code",
      "execution_count": null,
      "source": [
        "#model.zero_grad()"
      ],
      "outputs": [],
      "metadata": {
        "id": "rKw-wrcOo_fr"
      }
    },
    {
      "cell_type": "code",
      "execution_count": null,
      "source": [
        "#len(train_dataloader)"
      ],
      "outputs": [],
      "metadata": {
        "id": "WfPEFl9dokw8"
      }
    },
    {
      "cell_type": "code",
      "execution_count": null,
      "source": [
        "from tqdm import tqdm\n",
        "LEARNING_RATE = 1e-4\n",
        "\n",
        "def train_loop():\n",
        "  optim = torch.optim.Adam(model.parameters(), lr=LEARNING_RATE)\n",
        "\n",
        "  GRADIENT_ACCUMULATE_EVERY = 4\n",
        "  NUM_BATCHES = 10000000\n",
        "  epoch_iterator = tqdm(train_dataloader, desc=\"Iteration\")\n",
        "\n",
        "  for step, inputs in enumerate(epoch_iterator, start=1):\n",
        "\n",
        "      gpt.train()\n",
        "\n",
        "\n",
        "    \n",
        "      loss = gpt(inputs)\n",
        "      loss.backward()\n",
        "\n",
        "      #print(f'training loss: {loss.item()}')\n",
        "      torch.nn.utils.clip_grad_norm_(gpt.parameters(), 0.5)\n",
        "      optim.step()\n",
        "      optim.zero_grad()\n",
        "          \n",
        "      gpt.zero_grad()\n",
        "      "
      ],
      "outputs": [],
      "metadata": {
        "id": "9m_qHZOtmRPY"
      }
    },
    {
      "cell_type": "code",
      "execution_count": null,
      "source": [
        "#data_wiki[0]"
      ],
      "outputs": [
        {
          "output_type": "error",
          "ename": "NameError",
          "evalue": "ignored",
          "traceback": [
            "\u001b[0;31m---------------------------------------------------------------------------\u001b[0m",
            "\u001b[0;31mNameError\u001b[0m                                 Traceback (most recent call last)",
            "\u001b[0;32m<ipython-input-66-9de6c07af5df>\u001b[0m in \u001b[0;36m<module>\u001b[0;34m()\u001b[0m\n\u001b[0;32m----> 1\u001b[0;31m \u001b[0mdata_wiki\u001b[0m\u001b[0;34m[\u001b[0m\u001b[0;36m0\u001b[0m\u001b[0;34m]\u001b[0m\u001b[0;34m\u001b[0m\u001b[0;34m\u001b[0m\u001b[0m\n\u001b[0m",
            "\u001b[0;31mNameError\u001b[0m: name 'data_wiki' is not defined"
          ]
        }
      ],
      "metadata": {
        "colab": {
          "base_uri": "https://localhost:8080/",
          "height": 170
        },
        "id": "6UrtcQlhhVy2",
        "outputId": "8a62d668-02b2-4a1c-9dd9-deb18ca654f7"
      }
    },
    {
      "cell_type": "code",
      "execution_count": null,
      "source": [],
      "outputs": [],
      "metadata": {
        "id": "moa89tzrajUW"
      }
    },
    {
      "cell_type": "markdown",
      "source": [
        "# torch light"
      ],
      "metadata": {
        "id": "rN9LQWxpmPkG"
      }
    },
    {
      "cell_type": "code",
      "execution_count": null,
      "source": [
        "def test_forward(data_wiki):\n",
        "  loss = gpt.forward(data_wiki[0].unsqueeze(0))"
      ],
      "outputs": [],
      "metadata": {
        "id": "TBhHJJPCfsTR"
      }
    },
    {
      "cell_type": "code",
      "execution_count": null,
      "source": [
        "\n",
        "from x_transformers import TransformerWrapper, Decoder\n",
        "from x_transformers.autoregressive_wrapper import AutoregressiveWrapper\n",
        "\n",
        "class DecoderTrainer(pl.LightningModule):\n",
        "\n",
        "  def __init__(self, args):\n",
        "    super().__init__()\n",
        "    \n",
        "    self.gpt = AutoregressiveWrapper(TransformerWrapper(\n",
        "        num_tokens = 50259,\n",
        "        max_seq_len = 1024,\n",
        "        attn_layers = Decoder(\n",
        "            dim = 512,\n",
        "            depth = 12,\n",
        "            heads = 8,\n",
        "            \n",
        "              \n",
        "        )\n",
        "    ))\n",
        "    if not args.n_training_steps:\n",
        "      self.n_training_steps = 25000#args.n_training_steps\n",
        "    else:\n",
        "      self.n_training_steps = args.n_training_steps\n",
        "      self.n_warmup_steps = 10\n",
        "    \n",
        "\n",
        "  def forward(self, input_ids):\n",
        "    \n",
        "    print(input_ids)\n",
        "    loss = self.gpt.forward(input_ids)\n",
        "    return loss\n",
        "\n",
        "  def training_step(self, batch, batch_idx):\n",
        "    \n",
        "    loss = self.gpt(batch)\n",
        "    self.log(\"train_loss\", loss, prog_bar=True, logger=True)\n",
        "    return {\"loss\": loss}\n",
        "\n",
        "  def validation_step(self, batch, batch_idx):\n",
        "  \n",
        "    loss = self.gpt(batch)\n",
        "    self.log(\"val_loss\", loss, prog_bar=True, logger=True)\n",
        "    return loss\n",
        "\n",
        "  def test_step(self, batch, batch_idx):\n",
        "    \n",
        "    \n",
        "    loss = self.gpt(batch)\n",
        "    self.log(\"test_loss\", loss, prog_bar=True, logger=True)\n",
        "    return loss\n",
        "\n",
        "  def training_epoch_end(self, outputs):\n",
        "    \n",
        "    pass\n",
        "\n",
        "  def configure_optimizers(self):\n",
        "\n",
        "    optimizer = torch.optim.Adam(self.parameters(), lr=args.lr)\n",
        "\n",
        "    scheduler = torch.optim.lr_scheduler.OneCycleLR(\n",
        "      optimizer, \n",
        "      max_lr=args.lr,\n",
        "      final_div_factor=500, \n",
        "      steps_per_epoch=args.n_training_steps,\n",
        "      epochs=10\n",
        "    )\n",
        "\n",
        "    \n",
        "\n",
        "    return dict(\n",
        "      optimizer=optimizer,\n",
        "      lr_scheduler=dict(\n",
        "        scheduler=scheduler,\n",
        "        interval='step'\n",
        "      )\n",
        "    )"
      ],
      "outputs": [],
      "metadata": {
        "id": "e9652cd9-171e-4d66-889d-8aa299c0b077"
      }
    },
    {
      "cell_type": "code",
      "execution_count": null,
      "source": [
        "data_module = DecoderDataModule(args)"
      ],
      "outputs": [],
      "metadata": {
        "id": "dfcfc10d-b756-424c-b21d-fa2f3dc50921"
      }
    },
    {
      "cell_type": "code",
      "execution_count": null,
      "source": [
        "model = DecoderTrainer(args=args)"
      ],
      "outputs": [],
      "metadata": {
        "id": "90e62ca7-cbe1-4f99-96dd-ccbd2ac2c064"
      }
    },
    {
      "cell_type": "code",
      "execution_count": null,
      "source": [
        "from pytorch_lightning.callbacks import ModelCheckpoint, EarlyStopping\n",
        "from pytorch_lightning.loggers import TensorBoardLogger\n",
        "\n",
        "early_stopping_callback = EarlyStopping(monitor='train_loss', patience=2)"
      ],
      "outputs": [],
      "metadata": {
        "id": "8606a9f2-ae69-46fc-9cc7-20b56c6e12f9"
      }
    },
    {
      "cell_type": "code",
      "execution_count": null,
      "source": [
        "class CheckpointEveryNSteps(pl.Callback):\n",
        "    \"\"\"\n",
        "    Save a checkpoint every N steps, instead of Lightning's default that checkpoints\n",
        "    based on validation loss.\n",
        "    \"\"\"\n",
        "\n",
        "    def __init__(\n",
        "        self,\n",
        "        save_step_frequency,\n",
        "        prefix=\"N-Step-Checkpoint\",\n",
        "        use_modelcheckpoint_filename=False,\n",
        "    ):\n",
        "        \"\"\"\n",
        "        Args:\n",
        "            save_step_frequency: how often to save in steps\n",
        "            prefix: add a prefix to the name, only used if\n",
        "                use_modelcheckpoint_filename=False\n",
        "            use_modelcheckpoint_filename: just use the ModelCheckpoint callback's\n",
        "                default filename, don't use ours.\n",
        "        \"\"\"\n",
        "        self.save_step_frequency = save_step_frequency\n",
        "        self.prefix = prefix\n",
        "        self.use_modelcheckpoint_filename = use_modelcheckpoint_filename\n",
        "\n",
        "    def on_batch_end(self, trainer: pl.Trainer, _):\n",
        "        \"\"\" Check if we should save a checkpoint after every train batch \"\"\"\n",
        "        epoch = trainer.current_epoch\n",
        "        global_step = trainer.global_step\n",
        "        if global_step % self.save_step_frequency == 0:\n",
        "            if self.use_modelcheckpoint_filename:\n",
        "                filename = trainer.checkpoint_callback.filename\n",
        "            else:\n",
        "                filename =  f\"{self.prefix}_{epoch}_{global_step}.ckpt\"\n",
        "            ckpt_path = os.path.join(trainer.checkpoint_callback.dirpath, filename)\n",
        "            trainer.save_checkpoint(ckpt_path)\n",
        "\n",
        "\n"
      ],
      "outputs": [],
      "metadata": {
        "id": "QYqVOqNF3H7L"
      }
    },
    {
      "cell_type": "code",
      "execution_count": null,
      "source": [
        "from pytorch_lightning.loggers import WandbLogger\n",
        "\n",
        "wandb_logger = WandbLogger(project=\"Decoder\")"
      ],
      "outputs": [
        {
          "output_type": "stream",
          "name": "stderr",
          "text": [
            "\u001b[34m\u001b[1mwandb\u001b[0m: Currently logged in as: \u001b[33malexwortega\u001b[0m. Use \u001b[1m`wandb login --relogin`\u001b[0m to force relogin\n"
          ]
        },
        {
          "output_type": "display_data",
          "data": {
            "text/plain": [
              "<IPython.core.display.HTML object>"
            ],
            "text/html": [
              "Tracking run with wandb version 0.12.16"
            ]
          },
          "metadata": {}
        },
        {
          "output_type": "display_data",
          "data": {
            "text/plain": [
              "<IPython.core.display.HTML object>"
            ],
            "text/html": [
              "Run data is saved locally in <code>/content/wandb/run-20220524_053454-29fij22l</code>"
            ]
          },
          "metadata": {}
        },
        {
          "output_type": "display_data",
          "data": {
            "text/plain": [
              "<IPython.core.display.HTML object>"
            ],
            "text/html": [
              "Syncing run <strong><a href=\"https://wandb.ai/alexwortega/Decoder/runs/29fij22l\" target=\"_blank\">leafy-feather-9</a></strong> to <a href=\"https://wandb.ai/alexwortega/Decoder\" target=\"_blank\">Weights & Biases</a> (<a href=\"https://wandb.me/run\" target=\"_blank\">docs</a>)<br/>"
            ]
          },
          "metadata": {}
        }
      ],
      "metadata": {
        "colab": {
          "base_uri": "https://localhost:8080/",
          "height": 88
        },
        "id": "b867531e-2515-44f7-b32b-5abd58d1c903",
        "outputId": "3f55693f-50c7-47ea-8dc3-88b6bdd95033"
      }
    },
    {
      "cell_type": "code",
      "execution_count": null,
      "source": [
        "trainer = pl.Trainer(\n",
        "  logger=wandb_logger,\n",
        "  checkpoint_callback=[CheckpointEveryNSteps(save_step_frequency=20000)],\n",
        "  callbacks=[early_stopping_callback],\n",
        "  max_epochs=10,\n",
        "  gpus=1,\n",
        "  gradient_clip_val=0.5,\n",
        "  accumulate_grad_batches=7,\n",
        "  progress_bar_refresh_rate=30\n",
        ")"
      ],
      "outputs": [
        {
          "output_type": "stream",
          "name": "stderr",
          "text": [
            "/usr/local/lib/python3.7/dist-packages/pytorch_lightning/trainer/connectors/callback_connector.py:152: LightningDeprecationWarning: Setting `Trainer(checkpoint_callback=[<__main__.CheckpointEveryNSteps object at 0x7f7b1ba84f90>])` is deprecated in v1.5 and will be removed in v1.7. Please consider using `Trainer(enable_checkpointing=[<__main__.CheckpointEveryNSteps object at 0x7f7b1ba84f90>])`.\n",
            "  f\"Setting `Trainer(checkpoint_callback={checkpoint_callback})` is deprecated in v1.5 and will \"\n",
            "/usr/local/lib/python3.7/dist-packages/pytorch_lightning/trainer/connectors/callback_connector.py:97: LightningDeprecationWarning: Setting `Trainer(progress_bar_refresh_rate=30)` is deprecated in v1.5 and will be removed in v1.7. Please pass `pytorch_lightning.callbacks.progress.TQDMProgressBar` with `refresh_rate` directly to the Trainer's `callbacks` argument instead. Or, to disable the progress bar pass `enable_progress_bar = False` to the Trainer.\n",
            "  f\"Setting `Trainer(progress_bar_refresh_rate={progress_bar_refresh_rate})` is deprecated in v1.5 and\"\n",
            "GPU available: True, used: True\n",
            "TPU available: False, using: 0 TPU cores\n",
            "IPU available: False, using: 0 IPUs\n",
            "HPU available: False, using: 0 HPUs\n"
          ]
        }
      ],
      "metadata": {
        "colab": {
          "base_uri": "https://localhost:8080/"
        },
        "id": "205016be-9183-4754-8103-549a3f49a701",
        "outputId": "ff26681f-a0de-4e3f-c4e8-d5d29b001f21"
      }
    },
    {
      "cell_type": "code",
      "execution_count": null,
      "source": [
        "trainer.fit(model, data_module)"
      ],
      "outputs": [
        {
          "output_type": "stream",
          "name": "stderr",
          "text": [
            "/usr/local/lib/python3.7/dist-packages/pytorch_lightning/trainer/configuration_validator.py:133: UserWarning: You defined a `validation_step` but have no `val_dataloader`. Skipping val loop.\n",
            "  rank_zero_warn(\"You defined a `validation_step` but have no `val_dataloader`. Skipping val loop.\")\n"
          ]
        },
        {
          "output_type": "stream",
          "name": "stdout",
          "text": [
            "preparing data\n"
          ]
        },
        {
          "output_type": "stream",
          "name": "stderr",
          "text": [
            "Tokenizing: 100%|██████████| 100000/100000 [03:39<00:00, 454.86it/s]\n",
            "LOCAL_RANK: 0 - CUDA_VISIBLE_DEVICES: [0]\n",
            "\n",
            "  | Name | Type                  | Params\n",
            "-----------------------------------------------\n",
            "0 | gpt  | AutoregressiveWrapper | 89.9 M\n",
            "-----------------------------------------------\n",
            "89.9 M    Trainable params\n",
            "0         Non-trainable params\n",
            "89.9 M    Total params\n",
            "359.404   Total estimated model params size (MB)\n",
            "/usr/local/lib/python3.7/dist-packages/pytorch_lightning/trainer/connectors/data_connector.py:245: PossibleUserWarning: The dataloader, train_dataloader, does not have many workers which may be a bottleneck. Consider increasing the value of the `num_workers` argument` (try 8 which is the number of cpus on this machine) in the `DataLoader` init to improve performance.\n",
            "  category=PossibleUserWarning,\n"
          ]
        },
        {
          "output_type": "display_data",
          "data": {
            "text/plain": [
              "Training: 0it [00:00, ?it/s]"
            ],
            "application/vnd.jupyter.widget-view+json": {
              "model_id": "8b2dc182e86044d6a3ceba1b777d9280",
              "version_major": 2,
              "version_minor": 0
            }
          },
          "metadata": {}
        }
      ],
      "metadata": {
        "colab": {
          "background_save": true,
          "base_uri": "https://localhost:8080/",
          "height": 357,
          "referenced_widgets": [
            "8b2dc182e86044d6a3ceba1b777d9280",
            "0824e2d907774a08abf12b54a2e33546",
            "6bf20dc3343d44ec82222f9dbebf68b3",
            "a1a9b46c756643daa20ee6b27f7f4f8d",
            "8c32b971dbad4b37a3073b8321f4f7a0",
            "278b3f57f239478780674d0cd867e51c",
            "b0cc845ae2104ebaa34d5eb99afa88ee",
            "7633ca87056144cea6d011b0b5107a39",
            "e50763013caa4f46b35ef120f59be06a",
            "365b33790b1a4dc8a33daf792662551a",
            "eb531f081e08442ea266a97c9b64584b"
          ]
        },
        "id": "3fd2ab61-b69e-496b-aca3-3cdac884213b",
        "outputId": "caf9866e-87ef-4e2c-dc26-edcbbfcabe92"
      }
    },
    {
      "cell_type": "code",
      "execution_count": null,
      "source": [
        "point = '/content/Decoder/3bhxp6wf/checkpoints/epoch=0-step=129608.ckpt'\n",
        "_fix_pl(point)"
      ],
      "outputs": [],
      "metadata": {
        "id": "8aceb1dc-1385-4453-a47c-e38c3c631964"
      }
    },
    {
      "cell_type": "code",
      "execution_count": null,
      "source": [],
      "outputs": [],
      "metadata": {
        "id": "EybqbYP3Vg-7"
      }
    },
    {
      "cell_type": "code",
      "execution_count": null,
      "source": [
        "torch.load('/content/fixed.pt')"
      ],
      "outputs": [],
      "metadata": {
        "id": "WJgCrbcIVtGZ"
      }
    },
    {
      "cell_type": "code",
      "execution_count": 1,
      "source": [
        "from x_transformers import TransformerWrapper, Decoder\n",
        "from x_transformers.autoregressive_wrapper import AutoregressiveWrapper\n",
        "import torch\n",
        "from transformers import  GPT2TokenizerFast\n",
        "\n",
        "BASE_MODEL = \"sberbank-ai/rugpt3small_based_on_gpt2\"\n",
        "\n",
        "tokenizer = GPT2TokenizerFast.from_pretrained(BASE_MODEL, bos_token='<|endoftext|>', eos_token='<|endoftext|>', pad_token='<|pad|>')\n",
        "\n",
        "\n",
        "\n",
        "\n",
        "def _fix_pl(path):\n",
        "  d = torch.load(path)[\"state_dict\"]\n",
        "  checkpoint = {}\n",
        "  for key in d.keys():\n",
        "    checkpoint[key.replace('gpt.','')] = d[key]\n",
        "  torch.save(checkpoint,'fixed.pt')\n",
        "\n",
        "\n",
        "_fix_pl('Decoder/3uu9967k/checkpoints/epoch=8-step=26793.ckpt')\n",
        "\n"
      ],
      "outputs": [
        {
          "output_type": "stream",
          "name": "stderr",
          "text": [
            "/home/alex/.local/lib/python3.8/site-packages/tqdm/auto.py:22: TqdmWarning: IProgress not found. Please update jupyter and ipywidgets. See https://ipywidgets.readthedocs.io/en/stable/user_install.html\n",
            "  from .autonotebook import tqdm as notebook_tqdm\n",
            "/usr/lib/python3/dist-packages/requests/__init__.py:89: RequestsDependencyWarning: urllib3 (1.26.9) or chardet (3.0.4) doesn't match a supported version!\n",
            "  warnings.warn(\"urllib3 ({}) or chardet ({}) doesn't match a supported \"\n",
            "Special tokens have been added in the vocabulary, make sure the associated word embeddings are fine-tuned or trained.\n",
            "Special tokens have been added in the vocabulary, make sure the associated word embeddings are fine-tuned or trained.\n"
          ]
        }
      ],
      "metadata": {
        "id": "OC6RD1KSVrZi"
      }
    },
    {
      "cell_type": "code",
      "execution_count": 2,
      "source": [
        "gpt = AutoregressiveWrapper(TransformerWrapper(\n",
        "        num_tokens = 50259,\n",
        "        max_seq_len = 1024,\n",
        "        attn_layers = Decoder(\n",
        "            dim = 512,\n",
        "            depth = 12,\n",
        "            heads = 8,\n",
        "            rotary_pos_emb = True ,\n",
        "            ff_swish = True, # set this to True\n",
        "            ff_glu = True   \n",
        "        )\n",
        "    )).half().cuda()\n",
        "\n",
        "gpt.load_state_dict(torch.load('fixed.pt'))\n",
        "\n"
      ],
      "outputs": [
        {
          "output_type": "execute_result",
          "data": {
            "text/plain": [
              "<All keys matched successfully>"
            ]
          },
          "metadata": {},
          "execution_count": 2
        }
      ],
      "metadata": {
        "colab": {
          "base_uri": "https://localhost:8080/"
        },
        "id": "dvYR8h9NVxcD",
        "outputId": "f351a3d3-5080-4015-8ce6-ecfb8ae74ed0"
      }
    },
    {
      "cell_type": "code",
      "execution_count": 24,
      "source": [
        "enc = tokenizer.encode('Пушкин ', return_tensors='pt').cuda()\n",
        "gen = gpt.generate(enc, 20)\n",
        "print(tokenizer.decode(gen[0]))"
      ],
      "outputs": [
        {
          "output_type": "stream",
          "name": "stdout",
          "text": [
            "14 ноября 1974 года получил степень бакалавра по вопросам посещения Божией Матери в Тельвалесарях. Л\n"
          ]
        }
      ],
      "metadata": {}
    },
    {
      "cell_type": "code",
      "execution_count": 17,
      "source": [
        "enc = tokenizer.encode('Пушкин это', return_tensors='pt')"
      ],
      "outputs": [],
      "metadata": {
        "id": "wR8joGO6V3BU"
      }
    },
    {
      "cell_type": "code",
      "execution_count": null,
      "source": [
        "enc"
      ],
      "outputs": [
        {
          "output_type": "execute_result",
          "data": {
            "text/plain": [
              "tensor([[  672, 14173,   481]])"
            ]
          },
          "metadata": {},
          "execution_count": 69
        }
      ],
      "metadata": {
        "colab": {
          "base_uri": "https://localhost:8080/"
        },
        "id": "ah8kVOLYWJOR",
        "outputId": "c30afdd6-e58f-4311-b7a0-ac6f81f3ff78"
      }
    },
    {
      "cell_type": "code",
      "execution_count": null,
      "source": [],
      "outputs": [],
      "metadata": {
        "id": "DUZcrk39WKKJ"
      }
    },
    {
      "cell_type": "code",
      "execution_count": null,
      "source": [],
      "outputs": [
        {
          "output_type": "error",
          "ename": "RuntimeError",
          "evalue": "ignored",
          "traceback": [
            "\u001b[0;31m---------------------------------------------------------------------------\u001b[0m",
            "\u001b[0;31mRuntimeError\u001b[0m                              Traceback (most recent call last)",
            "\u001b[0;32m<ipython-input-71-82c388cacad0>\u001b[0m in \u001b[0;36m<module>\u001b[0;34m()\u001b[0m\n\u001b[0;32m----> 1\u001b[0;31m \u001b[0mgen\u001b[0m \u001b[0;34m=\u001b[0m \u001b[0mgpt\u001b[0m\u001b[0;34m.\u001b[0m\u001b[0mgenerate\u001b[0m\u001b[0;34m(\u001b[0m\u001b[0menc\u001b[0m\u001b[0;34m,\u001b[0m \u001b[0;36m1024\u001b[0m\u001b[0;34m)\u001b[0m\u001b[0;34m\u001b[0m\u001b[0;34m\u001b[0m\u001b[0m\n\u001b[0m",
            "\u001b[0;32m/usr/local/lib/python3.7/dist-packages/torch/autograd/grad_mode.py\u001b[0m in \u001b[0;36mdecorate_context\u001b[0;34m(*args, **kwargs)\u001b[0m\n\u001b[1;32m     25\u001b[0m         \u001b[0;32mdef\u001b[0m \u001b[0mdecorate_context\u001b[0m\u001b[0;34m(\u001b[0m\u001b[0;34m*\u001b[0m\u001b[0margs\u001b[0m\u001b[0;34m,\u001b[0m \u001b[0;34m**\u001b[0m\u001b[0mkwargs\u001b[0m\u001b[0;34m)\u001b[0m\u001b[0;34m:\u001b[0m\u001b[0;34m\u001b[0m\u001b[0;34m\u001b[0m\u001b[0m\n\u001b[1;32m     26\u001b[0m             \u001b[0;32mwith\u001b[0m \u001b[0mself\u001b[0m\u001b[0;34m.\u001b[0m\u001b[0mclone\u001b[0m\u001b[0;34m(\u001b[0m\u001b[0;34m)\u001b[0m\u001b[0;34m:\u001b[0m\u001b[0;34m\u001b[0m\u001b[0;34m\u001b[0m\u001b[0m\n\u001b[0;32m---> 27\u001b[0;31m                 \u001b[0;32mreturn\u001b[0m \u001b[0mfunc\u001b[0m\u001b[0;34m(\u001b[0m\u001b[0;34m*\u001b[0m\u001b[0margs\u001b[0m\u001b[0;34m,\u001b[0m \u001b[0;34m**\u001b[0m\u001b[0mkwargs\u001b[0m\u001b[0;34m)\u001b[0m\u001b[0;34m\u001b[0m\u001b[0;34m\u001b[0m\u001b[0m\n\u001b[0m\u001b[1;32m     28\u001b[0m         \u001b[0;32mreturn\u001b[0m \u001b[0mcast\u001b[0m\u001b[0;34m(\u001b[0m\u001b[0mF\u001b[0m\u001b[0;34m,\u001b[0m \u001b[0mdecorate_context\u001b[0m\u001b[0;34m)\u001b[0m\u001b[0;34m\u001b[0m\u001b[0;34m\u001b[0m\u001b[0m\n\u001b[1;32m     29\u001b[0m \u001b[0;34m\u001b[0m\u001b[0m\n",
            "\u001b[0;32m/usr/local/lib/python3.7/dist-packages/x_transformers/autoregressive_wrapper.py\u001b[0m in \u001b[0;36mgenerate\u001b[0;34m(self, start_tokens, seq_len, eos_token, temperature, filter_logits_fn, filter_thres, min_p_pow, min_p_ratio, **kwargs)\u001b[0m\n\u001b[1;32m     88\u001b[0m                 \u001b[0mprobs\u001b[0m \u001b[0;34m=\u001b[0m \u001b[0mentmax\u001b[0m\u001b[0;34m(\u001b[0m\u001b[0mlogits\u001b[0m \u001b[0;34m/\u001b[0m \u001b[0mtemperature\u001b[0m\u001b[0;34m,\u001b[0m \u001b[0malpha\u001b[0m \u001b[0;34m=\u001b[0m \u001b[0mENTMAX_ALPHA\u001b[0m\u001b[0;34m,\u001b[0m \u001b[0mdim\u001b[0m\u001b[0;34m=\u001b[0m\u001b[0;34m-\u001b[0m\u001b[0;36m1\u001b[0m\u001b[0;34m)\u001b[0m\u001b[0;34m\u001b[0m\u001b[0;34m\u001b[0m\u001b[0m\n\u001b[1;32m     89\u001b[0m \u001b[0;34m\u001b[0m\u001b[0m\n\u001b[0;32m---> 90\u001b[0;31m             \u001b[0msample\u001b[0m \u001b[0;34m=\u001b[0m \u001b[0mtorch\u001b[0m\u001b[0;34m.\u001b[0m\u001b[0mmultinomial\u001b[0m\u001b[0;34m(\u001b[0m\u001b[0mprobs\u001b[0m\u001b[0;34m,\u001b[0m \u001b[0;36m1\u001b[0m\u001b[0;34m)\u001b[0m\u001b[0;34m\u001b[0m\u001b[0;34m\u001b[0m\u001b[0m\n\u001b[0m\u001b[1;32m     91\u001b[0m \u001b[0;34m\u001b[0m\u001b[0m\n\u001b[1;32m     92\u001b[0m             \u001b[0mout\u001b[0m \u001b[0;34m=\u001b[0m \u001b[0mtorch\u001b[0m\u001b[0;34m.\u001b[0m\u001b[0mcat\u001b[0m\u001b[0;34m(\u001b[0m\u001b[0;34m(\u001b[0m\u001b[0mout\u001b[0m\u001b[0;34m,\u001b[0m \u001b[0msample\u001b[0m\u001b[0;34m)\u001b[0m\u001b[0;34m,\u001b[0m \u001b[0mdim\u001b[0m\u001b[0;34m=\u001b[0m\u001b[0;34m-\u001b[0m\u001b[0;36m1\u001b[0m\u001b[0;34m)\u001b[0m\u001b[0;34m\u001b[0m\u001b[0;34m\u001b[0m\u001b[0m\n",
            "\u001b[0;31mRuntimeError\u001b[0m: probability tensor contains either `inf`, `nan` or element < 0"
          ]
        }
      ],
      "metadata": {
        "colab": {
          "base_uri": "https://localhost:8080/",
          "height": 329
        },
        "id": "xEF6fd7RV98j",
        "outputId": "39f2f8ce-dbaf-4707-d86d-a79b62a0a235"
      }
    },
    {
      "cell_type": "code",
      "execution_count": null,
      "source": [
        "a=0\n",
        "while True:\n",
        "  a+=1\n",
        "  a-=1"
      ],
      "outputs": [],
      "metadata": {
        "id": "wX0qPNtHJTSe"
      }
    },
    {
      "cell_type": "code",
      "execution_count": null,
      "source": [],
      "outputs": [],
      "metadata": {
        "id": "JZxCW-xPJXre"
      }
    }
  ],
  "metadata": {
    "accelerator": "GPU",
    "colab": {
      "background_execution": "on",
      "collapsed_sections": [],
      "machine_shape": "hm",
      "name": "ruDECODER",
      "provenance": []
    },
    "kernelspec": {
      "name": "python3",
      "display_name": "Python 3.8.10 64-bit"
    },
    "language_info": {
      "codemirror_mode": {
        "name": "ipython",
        "version": 3
      },
      "file_extension": ".py",
      "mimetype": "text/x-python",
      "name": "python",
      "nbconvert_exporter": "python",
      "pygments_lexer": "ipython3",
      "version": "3.8.10"
    },
    "widgets": {
      "application/vnd.jupyter.widget-state+json": {
        "026a7b828cd448708b589d183becb2eb": {
          "model_module": "@jupyter-widgets/controls",
          "model_module_version": "1.5.0",
          "model_name": "ProgressStyleModel",
          "state": {
            "_model_module": "@jupyter-widgets/controls",
            "_model_module_version": "1.5.0",
            "_model_name": "ProgressStyleModel",
            "_view_count": null,
            "_view_module": "@jupyter-widgets/base",
            "_view_module_version": "1.2.0",
            "_view_name": "StyleView",
            "bar_color": null,
            "description_width": ""
          }
        },
        "0824e2d907774a08abf12b54a2e33546": {
          "model_module": "@jupyter-widgets/controls",
          "model_module_version": "1.5.0",
          "model_name": "HTMLModel",
          "state": {
            "_dom_classes": [],
            "_model_module": "@jupyter-widgets/controls",
            "_model_module_version": "1.5.0",
            "_model_name": "HTMLModel",
            "_view_count": null,
            "_view_module": "@jupyter-widgets/controls",
            "_view_module_version": "1.5.0",
            "_view_name": "HTMLView",
            "description": "",
            "description_tooltip": null,
            "layout": "IPY_MODEL_278b3f57f239478780674d0cd867e51c",
            "placeholder": "​",
            "style": "IPY_MODEL_b0cc845ae2104ebaa34d5eb99afa88ee",
            "value": "Epoch 1:  67%"
          }
        },
        "0c9d97863d8a48f58416b10d26587bd1": {
          "model_module": "@jupyter-widgets/base",
          "model_module_version": "1.2.0",
          "model_name": "LayoutModel",
          "state": {
            "_model_module": "@jupyter-widgets/base",
            "_model_module_version": "1.2.0",
            "_model_name": "LayoutModel",
            "_view_count": null,
            "_view_module": "@jupyter-widgets/base",
            "_view_module_version": "1.2.0",
            "_view_name": "LayoutView",
            "align_content": null,
            "align_items": null,
            "align_self": null,
            "border": null,
            "bottom": null,
            "display": null,
            "flex": null,
            "flex_flow": null,
            "grid_area": null,
            "grid_auto_columns": null,
            "grid_auto_flow": null,
            "grid_auto_rows": null,
            "grid_column": null,
            "grid_gap": null,
            "grid_row": null,
            "grid_template_areas": null,
            "grid_template_columns": null,
            "grid_template_rows": null,
            "height": null,
            "justify_content": null,
            "justify_items": null,
            "left": null,
            "margin": null,
            "max_height": null,
            "max_width": null,
            "min_height": null,
            "min_width": null,
            "object_fit": null,
            "object_position": null,
            "order": null,
            "overflow": null,
            "overflow_x": null,
            "overflow_y": null,
            "padding": null,
            "right": null,
            "top": null,
            "visibility": null,
            "width": null
          }
        },
        "16788087713d4d9fbfc99b1235224e49": {
          "model_module": "@jupyter-widgets/base",
          "model_module_version": "1.2.0",
          "model_name": "LayoutModel",
          "state": {
            "_model_module": "@jupyter-widgets/base",
            "_model_module_version": "1.2.0",
            "_model_name": "LayoutModel",
            "_view_count": null,
            "_view_module": "@jupyter-widgets/base",
            "_view_module_version": "1.2.0",
            "_view_name": "LayoutView",
            "align_content": null,
            "align_items": null,
            "align_self": null,
            "border": null,
            "bottom": null,
            "display": null,
            "flex": null,
            "flex_flow": null,
            "grid_area": null,
            "grid_auto_columns": null,
            "grid_auto_flow": null,
            "grid_auto_rows": null,
            "grid_column": null,
            "grid_gap": null,
            "grid_row": null,
            "grid_template_areas": null,
            "grid_template_columns": null,
            "grid_template_rows": null,
            "height": null,
            "justify_content": null,
            "justify_items": null,
            "left": null,
            "margin": null,
            "max_height": null,
            "max_width": null,
            "min_height": null,
            "min_width": null,
            "object_fit": null,
            "object_position": null,
            "order": null,
            "overflow": null,
            "overflow_x": null,
            "overflow_y": null,
            "padding": null,
            "right": null,
            "top": null,
            "visibility": null,
            "width": null
          }
        },
        "19fafbdadadb435b831b2ea30e094226": {
          "model_module": "@jupyter-widgets/controls",
          "model_module_version": "1.5.0",
          "model_name": "DescriptionStyleModel",
          "state": {
            "_model_module": "@jupyter-widgets/controls",
            "_model_module_version": "1.5.0",
            "_model_name": "DescriptionStyleModel",
            "_view_count": null,
            "_view_module": "@jupyter-widgets/base",
            "_view_module_version": "1.2.0",
            "_view_name": "StyleView",
            "description_width": ""
          }
        },
        "1aa80b9f9ee54113aa0c613a50f54360": {
          "model_module": "@jupyter-widgets/controls",
          "model_module_version": "1.5.0",
          "model_name": "HTMLModel",
          "state": {
            "_dom_classes": [],
            "_model_module": "@jupyter-widgets/controls",
            "_model_module_version": "1.5.0",
            "_model_name": "HTMLModel",
            "_view_count": null,
            "_view_module": "@jupyter-widgets/controls",
            "_view_module_version": "1.5.0",
            "_view_name": "HTMLView",
            "description": "",
            "description_tooltip": null,
            "layout": "IPY_MODEL_99a9676549be4a54899ab4f8b05adf9a",
            "placeholder": "​",
            "style": "IPY_MODEL_19fafbdadadb435b831b2ea30e094226",
            "value": " 1.21M/1.21M [00:00&lt;00:00, 2.04MB/s]"
          }
        },
        "278b3f57f239478780674d0cd867e51c": {
          "model_module": "@jupyter-widgets/base",
          "model_module_version": "1.2.0",
          "model_name": "LayoutModel",
          "state": {
            "_model_module": "@jupyter-widgets/base",
            "_model_module_version": "1.2.0",
            "_model_name": "LayoutModel",
            "_view_count": null,
            "_view_module": "@jupyter-widgets/base",
            "_view_module_version": "1.2.0",
            "_view_name": "LayoutView",
            "align_content": null,
            "align_items": null,
            "align_self": null,
            "border": null,
            "bottom": null,
            "display": null,
            "flex": null,
            "flex_flow": null,
            "grid_area": null,
            "grid_auto_columns": null,
            "grid_auto_flow": null,
            "grid_auto_rows": null,
            "grid_column": null,
            "grid_gap": null,
            "grid_row": null,
            "grid_template_areas": null,
            "grid_template_columns": null,
            "grid_template_rows": null,
            "height": null,
            "justify_content": null,
            "justify_items": null,
            "left": null,
            "margin": null,
            "max_height": null,
            "max_width": null,
            "min_height": null,
            "min_width": null,
            "object_fit": null,
            "object_position": null,
            "order": null,
            "overflow": null,
            "overflow_x": null,
            "overflow_y": null,
            "padding": null,
            "right": null,
            "top": null,
            "visibility": null,
            "width": null
          }
        },
        "365b33790b1a4dc8a33daf792662551a": {
          "model_module": "@jupyter-widgets/base",
          "model_module_version": "1.2.0",
          "model_name": "LayoutModel",
          "state": {
            "_model_module": "@jupyter-widgets/base",
            "_model_module_version": "1.2.0",
            "_model_name": "LayoutModel",
            "_view_count": null,
            "_view_module": "@jupyter-widgets/base",
            "_view_module_version": "1.2.0",
            "_view_name": "LayoutView",
            "align_content": null,
            "align_items": null,
            "align_self": null,
            "border": null,
            "bottom": null,
            "display": null,
            "flex": null,
            "flex_flow": null,
            "grid_area": null,
            "grid_auto_columns": null,
            "grid_auto_flow": null,
            "grid_auto_rows": null,
            "grid_column": null,
            "grid_gap": null,
            "grid_row": null,
            "grid_template_areas": null,
            "grid_template_columns": null,
            "grid_template_rows": null,
            "height": null,
            "justify_content": null,
            "justify_items": null,
            "left": null,
            "margin": null,
            "max_height": null,
            "max_width": null,
            "min_height": null,
            "min_width": null,
            "object_fit": null,
            "object_position": null,
            "order": null,
            "overflow": null,
            "overflow_x": null,
            "overflow_y": null,
            "padding": null,
            "right": null,
            "top": null,
            "visibility": null,
            "width": null
          }
        },
        "3761a2bc9d9f41f3aa5d9e0095931e8b": {
          "model_module": "@jupyter-widgets/controls",
          "model_module_version": "1.5.0",
          "model_name": "HBoxModel",
          "state": {
            "_dom_classes": [],
            "_model_module": "@jupyter-widgets/controls",
            "_model_module_version": "1.5.0",
            "_model_name": "HBoxModel",
            "_view_count": null,
            "_view_module": "@jupyter-widgets/controls",
            "_view_module_version": "1.5.0",
            "_view_name": "HBoxView",
            "box_style": "",
            "children": [
              "IPY_MODEL_a6e18b404ecd4c93bc795decacd02b06",
              "IPY_MODEL_9cf199464ec24a5abde62fe0827ad447",
              "IPY_MODEL_6b7516ef07ec4bacae525b699b61558d"
            ],
            "layout": "IPY_MODEL_0c9d97863d8a48f58416b10d26587bd1"
          }
        },
        "378f14a056b242369ec0d50d98483ce9": {
          "model_module": "@jupyter-widgets/base",
          "model_module_version": "1.2.0",
          "model_name": "LayoutModel",
          "state": {
            "_model_module": "@jupyter-widgets/base",
            "_model_module_version": "1.2.0",
            "_model_name": "LayoutModel",
            "_view_count": null,
            "_view_module": "@jupyter-widgets/base",
            "_view_module_version": "1.2.0",
            "_view_name": "LayoutView",
            "align_content": null,
            "align_items": null,
            "align_self": null,
            "border": null,
            "bottom": null,
            "display": null,
            "flex": null,
            "flex_flow": null,
            "grid_area": null,
            "grid_auto_columns": null,
            "grid_auto_flow": null,
            "grid_auto_rows": null,
            "grid_column": null,
            "grid_gap": null,
            "grid_row": null,
            "grid_template_areas": null,
            "grid_template_columns": null,
            "grid_template_rows": null,
            "height": null,
            "justify_content": null,
            "justify_items": null,
            "left": null,
            "margin": null,
            "max_height": null,
            "max_width": null,
            "min_height": null,
            "min_width": null,
            "object_fit": null,
            "object_position": null,
            "order": null,
            "overflow": null,
            "overflow_x": null,
            "overflow_y": null,
            "padding": null,
            "right": null,
            "top": null,
            "visibility": null,
            "width": null
          }
        },
        "38dfa0681daa4698ba6922638c959fad": {
          "model_module": "@jupyter-widgets/controls",
          "model_module_version": "1.5.0",
          "model_name": "FloatProgressModel",
          "state": {
            "_dom_classes": [],
            "_model_module": "@jupyter-widgets/controls",
            "_model_module_version": "1.5.0",
            "_model_name": "FloatProgressModel",
            "_view_count": null,
            "_view_module": "@jupyter-widgets/controls",
            "_view_module_version": "1.5.0",
            "_view_name": "ProgressView",
            "bar_style": "success",
            "description": "",
            "description_tooltip": null,
            "layout": "IPY_MODEL_378f14a056b242369ec0d50d98483ce9",
            "max": 1270925,
            "min": 0,
            "orientation": "horizontal",
            "style": "IPY_MODEL_e8eb65087dcd4c7589d79430cbf58fd6",
            "value": 1270925
          }
        },
        "45191ef2553242b8af3ca4e9f7f06540": {
          "model_module": "@jupyter-widgets/controls",
          "model_module_version": "1.5.0",
          "model_name": "FloatProgressModel",
          "state": {
            "_dom_classes": [],
            "_model_module": "@jupyter-widgets/controls",
            "_model_module_version": "1.5.0",
            "_model_name": "FloatProgressModel",
            "_view_count": null,
            "_view_module": "@jupyter-widgets/controls",
            "_view_module_version": "1.5.0",
            "_view_name": "ProgressView",
            "bar_style": "success",
            "description": "",
            "description_tooltip": null,
            "layout": "IPY_MODEL_9a79a7cec23e4f88b0aea924a31f5ba4",
            "max": 1713123,
            "min": 0,
            "orientation": "horizontal",
            "style": "IPY_MODEL_026a7b828cd448708b589d183becb2eb",
            "value": 1713123
          }
        },
        "48b744064e4549e48c772907622831b5": {
          "model_module": "@jupyter-widgets/base",
          "model_module_version": "1.2.0",
          "model_name": "LayoutModel",
          "state": {
            "_model_module": "@jupyter-widgets/base",
            "_model_module_version": "1.2.0",
            "_model_name": "LayoutModel",
            "_view_count": null,
            "_view_module": "@jupyter-widgets/base",
            "_view_module_version": "1.2.0",
            "_view_name": "LayoutView",
            "align_content": null,
            "align_items": null,
            "align_self": null,
            "border": null,
            "bottom": null,
            "display": null,
            "flex": null,
            "flex_flow": null,
            "grid_area": null,
            "grid_auto_columns": null,
            "grid_auto_flow": null,
            "grid_auto_rows": null,
            "grid_column": null,
            "grid_gap": null,
            "grid_row": null,
            "grid_template_areas": null,
            "grid_template_columns": null,
            "grid_template_rows": null,
            "height": null,
            "justify_content": null,
            "justify_items": null,
            "left": null,
            "margin": null,
            "max_height": null,
            "max_width": null,
            "min_height": null,
            "min_width": null,
            "object_fit": null,
            "object_position": null,
            "order": null,
            "overflow": null,
            "overflow_x": null,
            "overflow_y": null,
            "padding": null,
            "right": null,
            "top": null,
            "visibility": null,
            "width": null
          }
        },
        "4b11486ac8b540adab28b77e52e3ef12": {
          "model_module": "@jupyter-widgets/controls",
          "model_module_version": "1.5.0",
          "model_name": "ProgressStyleModel",
          "state": {
            "_model_module": "@jupyter-widgets/controls",
            "_model_module_version": "1.5.0",
            "_model_name": "ProgressStyleModel",
            "_view_count": null,
            "_view_module": "@jupyter-widgets/base",
            "_view_module_version": "1.2.0",
            "_view_name": "StyleView",
            "bar_color": null,
            "description_width": ""
          }
        },
        "5c715a1d4b954703848e4a5ebcdf8c53": {
          "model_module": "@jupyter-widgets/controls",
          "model_module_version": "1.5.0",
          "model_name": "HTMLModel",
          "state": {
            "_dom_classes": [],
            "_model_module": "@jupyter-widgets/controls",
            "_model_module_version": "1.5.0",
            "_model_name": "HTMLModel",
            "_view_count": null,
            "_view_module": "@jupyter-widgets/controls",
            "_view_module_version": "1.5.0",
            "_view_name": "HTMLView",
            "description": "",
            "description_tooltip": null,
            "layout": "IPY_MODEL_e5702faf42da4841affb55b5174ae7ba",
            "placeholder": "​",
            "style": "IPY_MODEL_f8ac22c830c24331833e92929bb9c1c2",
            "value": "Downloading: 100%"
          }
        },
        "6b7516ef07ec4bacae525b699b61558d": {
          "model_module": "@jupyter-widgets/controls",
          "model_module_version": "1.5.0",
          "model_name": "HTMLModel",
          "state": {
            "_dom_classes": [],
            "_model_module": "@jupyter-widgets/controls",
            "_model_module_version": "1.5.0",
            "_model_name": "HTMLModel",
            "_view_count": null,
            "_view_module": "@jupyter-widgets/controls",
            "_view_module_version": "1.5.0",
            "_view_name": "HTMLView",
            "description": "",
            "description_tooltip": null,
            "layout": "IPY_MODEL_8dbdd94a711c4de0979edc584c2001f2",
            "placeholder": "​",
            "style": "IPY_MODEL_88a1de764bf847c9a1496a7176ad0030",
            "value": " 608/608 [00:00&lt;00:00, 20.5kB/s]"
          }
        },
        "6bf20dc3343d44ec82222f9dbebf68b3": {
          "model_module": "@jupyter-widgets/controls",
          "model_module_version": "1.5.0",
          "model_name": "FloatProgressModel",
          "state": {
            "_dom_classes": [],
            "_model_module": "@jupyter-widgets/controls",
            "_model_module_version": "1.5.0",
            "_model_name": "FloatProgressModel",
            "_view_count": null,
            "_view_module": "@jupyter-widgets/controls",
            "_view_module_version": "1.5.0",
            "_view_name": "ProgressView",
            "bar_style": "",
            "description": "",
            "description_tooltip": null,
            "layout": "IPY_MODEL_7633ca87056144cea6d011b0b5107a39",
            "max": 25000,
            "min": 0,
            "orientation": "horizontal",
            "style": "IPY_MODEL_e50763013caa4f46b35ef120f59be06a",
            "value": 16830
          }
        },
        "72f6d95740754f7482f569cbbbd86857": {
          "model_module": "@jupyter-widgets/controls",
          "model_module_version": "1.5.0",
          "model_name": "HBoxModel",
          "state": {
            "_dom_classes": [],
            "_model_module": "@jupyter-widgets/controls",
            "_model_module_version": "1.5.0",
            "_model_name": "HBoxModel",
            "_view_count": null,
            "_view_module": "@jupyter-widgets/controls",
            "_view_module_version": "1.5.0",
            "_view_name": "HBoxView",
            "box_style": "",
            "children": [
              "IPY_MODEL_5c715a1d4b954703848e4a5ebcdf8c53",
              "IPY_MODEL_38dfa0681daa4698ba6922638c959fad",
              "IPY_MODEL_1aa80b9f9ee54113aa0c613a50f54360"
            ],
            "layout": "IPY_MODEL_9f4c6ea65a5c438d99239d43f3202423"
          }
        },
        "7633ca87056144cea6d011b0b5107a39": {
          "model_module": "@jupyter-widgets/base",
          "model_module_version": "1.2.0",
          "model_name": "LayoutModel",
          "state": {
            "_model_module": "@jupyter-widgets/base",
            "_model_module_version": "1.2.0",
            "_model_name": "LayoutModel",
            "_view_count": null,
            "_view_module": "@jupyter-widgets/base",
            "_view_module_version": "1.2.0",
            "_view_name": "LayoutView",
            "align_content": null,
            "align_items": null,
            "align_self": null,
            "border": null,
            "bottom": null,
            "display": null,
            "flex": "2",
            "flex_flow": null,
            "grid_area": null,
            "grid_auto_columns": null,
            "grid_auto_flow": null,
            "grid_auto_rows": null,
            "grid_column": null,
            "grid_gap": null,
            "grid_row": null,
            "grid_template_areas": null,
            "grid_template_columns": null,
            "grid_template_rows": null,
            "height": null,
            "justify_content": null,
            "justify_items": null,
            "left": null,
            "margin": null,
            "max_height": null,
            "max_width": null,
            "min_height": null,
            "min_width": null,
            "object_fit": null,
            "object_position": null,
            "order": null,
            "overflow": null,
            "overflow_x": null,
            "overflow_y": null,
            "padding": null,
            "right": null,
            "top": null,
            "visibility": null,
            "width": null
          }
        },
        "814b821538e04f48925c46a78d6920f8": {
          "model_module": "@jupyter-widgets/controls",
          "model_module_version": "1.5.0",
          "model_name": "HTMLModel",
          "state": {
            "_dom_classes": [],
            "_model_module": "@jupyter-widgets/controls",
            "_model_module_version": "1.5.0",
            "_model_name": "HTMLModel",
            "_view_count": null,
            "_view_module": "@jupyter-widgets/controls",
            "_view_module_version": "1.5.0",
            "_view_name": "HTMLView",
            "description": "",
            "description_tooltip": null,
            "layout": "IPY_MODEL_ff4569da655843b78192ea16b6a97cba",
            "placeholder": "​",
            "style": "IPY_MODEL_ddca0def4ba8482da6a55710dc39f038",
            "value": " 1.63M/1.63M [00:00&lt;00:00, 1.44MB/s]"
          }
        },
        "865e90f549d449af9b1769c68c25d3a7": {
          "model_module": "@jupyter-widgets/controls",
          "model_module_version": "1.5.0",
          "model_name": "DescriptionStyleModel",
          "state": {
            "_model_module": "@jupyter-widgets/controls",
            "_model_module_version": "1.5.0",
            "_model_name": "DescriptionStyleModel",
            "_view_count": null,
            "_view_module": "@jupyter-widgets/base",
            "_view_module_version": "1.2.0",
            "_view_name": "StyleView",
            "description_width": ""
          }
        },
        "88a1de764bf847c9a1496a7176ad0030": {
          "model_module": "@jupyter-widgets/controls",
          "model_module_version": "1.5.0",
          "model_name": "DescriptionStyleModel",
          "state": {
            "_model_module": "@jupyter-widgets/controls",
            "_model_module_version": "1.5.0",
            "_model_name": "DescriptionStyleModel",
            "_view_count": null,
            "_view_module": "@jupyter-widgets/base",
            "_view_module_version": "1.2.0",
            "_view_name": "StyleView",
            "description_width": ""
          }
        },
        "8b2dc182e86044d6a3ceba1b777d9280": {
          "model_module": "@jupyter-widgets/controls",
          "model_module_version": "1.5.0",
          "model_name": "HBoxModel",
          "state": {
            "_dom_classes": [],
            "_model_module": "@jupyter-widgets/controls",
            "_model_module_version": "1.5.0",
            "_model_name": "HBoxModel",
            "_view_count": null,
            "_view_module": "@jupyter-widgets/controls",
            "_view_module_version": "1.5.0",
            "_view_name": "HBoxView",
            "box_style": "",
            "children": [
              "IPY_MODEL_0824e2d907774a08abf12b54a2e33546",
              "IPY_MODEL_6bf20dc3343d44ec82222f9dbebf68b3",
              "IPY_MODEL_a1a9b46c756643daa20ee6b27f7f4f8d"
            ],
            "layout": "IPY_MODEL_8c32b971dbad4b37a3073b8321f4f7a0"
          }
        },
        "8b8e0d9a7c034d438a4a1f085dfc7fb5": {
          "model_module": "@jupyter-widgets/controls",
          "model_module_version": "1.5.0",
          "model_name": "HTMLModel",
          "state": {
            "_dom_classes": [],
            "_model_module": "@jupyter-widgets/controls",
            "_model_module_version": "1.5.0",
            "_model_name": "HTMLModel",
            "_view_count": null,
            "_view_module": "@jupyter-widgets/controls",
            "_view_module_version": "1.5.0",
            "_view_name": "HTMLView",
            "description": "",
            "description_tooltip": null,
            "layout": "IPY_MODEL_b87a199978c04586b11c46ff8fb89ebb",
            "placeholder": "​",
            "style": "IPY_MODEL_d0b12c16a0644a96b513b931f24ef56f",
            "value": "Downloading: 100%"
          }
        },
        "8c32b971dbad4b37a3073b8321f4f7a0": {
          "model_module": "@jupyter-widgets/base",
          "model_module_version": "1.2.0",
          "model_name": "LayoutModel",
          "state": {
            "_model_module": "@jupyter-widgets/base",
            "_model_module_version": "1.2.0",
            "_model_name": "LayoutModel",
            "_view_count": null,
            "_view_module": "@jupyter-widgets/base",
            "_view_module_version": "1.2.0",
            "_view_name": "LayoutView",
            "align_content": null,
            "align_items": null,
            "align_self": null,
            "border": null,
            "bottom": null,
            "display": "inline-flex",
            "flex": null,
            "flex_flow": "row wrap",
            "grid_area": null,
            "grid_auto_columns": null,
            "grid_auto_flow": null,
            "grid_auto_rows": null,
            "grid_column": null,
            "grid_gap": null,
            "grid_row": null,
            "grid_template_areas": null,
            "grid_template_columns": null,
            "grid_template_rows": null,
            "height": null,
            "justify_content": null,
            "justify_items": null,
            "left": null,
            "margin": null,
            "max_height": null,
            "max_width": null,
            "min_height": null,
            "min_width": null,
            "object_fit": null,
            "object_position": null,
            "order": null,
            "overflow": null,
            "overflow_x": null,
            "overflow_y": null,
            "padding": null,
            "right": null,
            "top": null,
            "visibility": null,
            "width": "100%"
          }
        },
        "8dbdd94a711c4de0979edc584c2001f2": {
          "model_module": "@jupyter-widgets/base",
          "model_module_version": "1.2.0",
          "model_name": "LayoutModel",
          "state": {
            "_model_module": "@jupyter-widgets/base",
            "_model_module_version": "1.2.0",
            "_model_name": "LayoutModel",
            "_view_count": null,
            "_view_module": "@jupyter-widgets/base",
            "_view_module_version": "1.2.0",
            "_view_name": "LayoutView",
            "align_content": null,
            "align_items": null,
            "align_self": null,
            "border": null,
            "bottom": null,
            "display": null,
            "flex": null,
            "flex_flow": null,
            "grid_area": null,
            "grid_auto_columns": null,
            "grid_auto_flow": null,
            "grid_auto_rows": null,
            "grid_column": null,
            "grid_gap": null,
            "grid_row": null,
            "grid_template_areas": null,
            "grid_template_columns": null,
            "grid_template_rows": null,
            "height": null,
            "justify_content": null,
            "justify_items": null,
            "left": null,
            "margin": null,
            "max_height": null,
            "max_width": null,
            "min_height": null,
            "min_width": null,
            "object_fit": null,
            "object_position": null,
            "order": null,
            "overflow": null,
            "overflow_x": null,
            "overflow_y": null,
            "padding": null,
            "right": null,
            "top": null,
            "visibility": null,
            "width": null
          }
        },
        "99a9676549be4a54899ab4f8b05adf9a": {
          "model_module": "@jupyter-widgets/base",
          "model_module_version": "1.2.0",
          "model_name": "LayoutModel",
          "state": {
            "_model_module": "@jupyter-widgets/base",
            "_model_module_version": "1.2.0",
            "_model_name": "LayoutModel",
            "_view_count": null,
            "_view_module": "@jupyter-widgets/base",
            "_view_module_version": "1.2.0",
            "_view_name": "LayoutView",
            "align_content": null,
            "align_items": null,
            "align_self": null,
            "border": null,
            "bottom": null,
            "display": null,
            "flex": null,
            "flex_flow": null,
            "grid_area": null,
            "grid_auto_columns": null,
            "grid_auto_flow": null,
            "grid_auto_rows": null,
            "grid_column": null,
            "grid_gap": null,
            "grid_row": null,
            "grid_template_areas": null,
            "grid_template_columns": null,
            "grid_template_rows": null,
            "height": null,
            "justify_content": null,
            "justify_items": null,
            "left": null,
            "margin": null,
            "max_height": null,
            "max_width": null,
            "min_height": null,
            "min_width": null,
            "object_fit": null,
            "object_position": null,
            "order": null,
            "overflow": null,
            "overflow_x": null,
            "overflow_y": null,
            "padding": null,
            "right": null,
            "top": null,
            "visibility": null,
            "width": null
          }
        },
        "9a79a7cec23e4f88b0aea924a31f5ba4": {
          "model_module": "@jupyter-widgets/base",
          "model_module_version": "1.2.0",
          "model_name": "LayoutModel",
          "state": {
            "_model_module": "@jupyter-widgets/base",
            "_model_module_version": "1.2.0",
            "_model_name": "LayoutModel",
            "_view_count": null,
            "_view_module": "@jupyter-widgets/base",
            "_view_module_version": "1.2.0",
            "_view_name": "LayoutView",
            "align_content": null,
            "align_items": null,
            "align_self": null,
            "border": null,
            "bottom": null,
            "display": null,
            "flex": null,
            "flex_flow": null,
            "grid_area": null,
            "grid_auto_columns": null,
            "grid_auto_flow": null,
            "grid_auto_rows": null,
            "grid_column": null,
            "grid_gap": null,
            "grid_row": null,
            "grid_template_areas": null,
            "grid_template_columns": null,
            "grid_template_rows": null,
            "height": null,
            "justify_content": null,
            "justify_items": null,
            "left": null,
            "margin": null,
            "max_height": null,
            "max_width": null,
            "min_height": null,
            "min_width": null,
            "object_fit": null,
            "object_position": null,
            "order": null,
            "overflow": null,
            "overflow_x": null,
            "overflow_y": null,
            "padding": null,
            "right": null,
            "top": null,
            "visibility": null,
            "width": null
          }
        },
        "9cf199464ec24a5abde62fe0827ad447": {
          "model_module": "@jupyter-widgets/controls",
          "model_module_version": "1.5.0",
          "model_name": "FloatProgressModel",
          "state": {
            "_dom_classes": [],
            "_model_module": "@jupyter-widgets/controls",
            "_model_module_version": "1.5.0",
            "_model_name": "FloatProgressModel",
            "_view_count": null,
            "_view_module": "@jupyter-widgets/controls",
            "_view_module_version": "1.5.0",
            "_view_name": "ProgressView",
            "bar_style": "success",
            "description": "",
            "description_tooltip": null,
            "layout": "IPY_MODEL_d5bae80c73674567bf75508d21d23c02",
            "max": 608,
            "min": 0,
            "orientation": "horizontal",
            "style": "IPY_MODEL_4b11486ac8b540adab28b77e52e3ef12",
            "value": 608
          }
        },
        "9f4c6ea65a5c438d99239d43f3202423": {
          "model_module": "@jupyter-widgets/base",
          "model_module_version": "1.2.0",
          "model_name": "LayoutModel",
          "state": {
            "_model_module": "@jupyter-widgets/base",
            "_model_module_version": "1.2.0",
            "_model_name": "LayoutModel",
            "_view_count": null,
            "_view_module": "@jupyter-widgets/base",
            "_view_module_version": "1.2.0",
            "_view_name": "LayoutView",
            "align_content": null,
            "align_items": null,
            "align_self": null,
            "border": null,
            "bottom": null,
            "display": null,
            "flex": null,
            "flex_flow": null,
            "grid_area": null,
            "grid_auto_columns": null,
            "grid_auto_flow": null,
            "grid_auto_rows": null,
            "grid_column": null,
            "grid_gap": null,
            "grid_row": null,
            "grid_template_areas": null,
            "grid_template_columns": null,
            "grid_template_rows": null,
            "height": null,
            "justify_content": null,
            "justify_items": null,
            "left": null,
            "margin": null,
            "max_height": null,
            "max_width": null,
            "min_height": null,
            "min_width": null,
            "object_fit": null,
            "object_position": null,
            "order": null,
            "overflow": null,
            "overflow_x": null,
            "overflow_y": null,
            "padding": null,
            "right": null,
            "top": null,
            "visibility": null,
            "width": null
          }
        },
        "a1a9b46c756643daa20ee6b27f7f4f8d": {
          "model_module": "@jupyter-widgets/controls",
          "model_module_version": "1.5.0",
          "model_name": "HTMLModel",
          "state": {
            "_dom_classes": [],
            "_model_module": "@jupyter-widgets/controls",
            "_model_module_version": "1.5.0",
            "_model_name": "HTMLModel",
            "_view_count": null,
            "_view_module": "@jupyter-widgets/controls",
            "_view_module_version": "1.5.0",
            "_view_name": "HTMLView",
            "description": "",
            "description_tooltip": null,
            "layout": "IPY_MODEL_365b33790b1a4dc8a33daf792662551a",
            "placeholder": "​",
            "style": "IPY_MODEL_eb531f081e08442ea266a97c9b64584b",
            "value": " 16830/25000 [1:39:29&lt;48:17,  2.82it/s, loss=2, v_num=j22l, train_loss=2.080]"
          }
        },
        "a6e18b404ecd4c93bc795decacd02b06": {
          "model_module": "@jupyter-widgets/controls",
          "model_module_version": "1.5.0",
          "model_name": "HTMLModel",
          "state": {
            "_dom_classes": [],
            "_model_module": "@jupyter-widgets/controls",
            "_model_module_version": "1.5.0",
            "_model_name": "HTMLModel",
            "_view_count": null,
            "_view_module": "@jupyter-widgets/controls",
            "_view_module_version": "1.5.0",
            "_view_name": "HTMLView",
            "description": "",
            "description_tooltip": null,
            "layout": "IPY_MODEL_48b744064e4549e48c772907622831b5",
            "placeholder": "​",
            "style": "IPY_MODEL_865e90f549d449af9b1769c68c25d3a7",
            "value": "Downloading: 100%"
          }
        },
        "b0cc845ae2104ebaa34d5eb99afa88ee": {
          "model_module": "@jupyter-widgets/controls",
          "model_module_version": "1.5.0",
          "model_name": "DescriptionStyleModel",
          "state": {
            "_model_module": "@jupyter-widgets/controls",
            "_model_module_version": "1.5.0",
            "_model_name": "DescriptionStyleModel",
            "_view_count": null,
            "_view_module": "@jupyter-widgets/base",
            "_view_module_version": "1.2.0",
            "_view_name": "StyleView",
            "description_width": ""
          }
        },
        "b87a199978c04586b11c46ff8fb89ebb": {
          "model_module": "@jupyter-widgets/base",
          "model_module_version": "1.2.0",
          "model_name": "LayoutModel",
          "state": {
            "_model_module": "@jupyter-widgets/base",
            "_model_module_version": "1.2.0",
            "_model_name": "LayoutModel",
            "_view_count": null,
            "_view_module": "@jupyter-widgets/base",
            "_view_module_version": "1.2.0",
            "_view_name": "LayoutView",
            "align_content": null,
            "align_items": null,
            "align_self": null,
            "border": null,
            "bottom": null,
            "display": null,
            "flex": null,
            "flex_flow": null,
            "grid_area": null,
            "grid_auto_columns": null,
            "grid_auto_flow": null,
            "grid_auto_rows": null,
            "grid_column": null,
            "grid_gap": null,
            "grid_row": null,
            "grid_template_areas": null,
            "grid_template_columns": null,
            "grid_template_rows": null,
            "height": null,
            "justify_content": null,
            "justify_items": null,
            "left": null,
            "margin": null,
            "max_height": null,
            "max_width": null,
            "min_height": null,
            "min_width": null,
            "object_fit": null,
            "object_position": null,
            "order": null,
            "overflow": null,
            "overflow_x": null,
            "overflow_y": null,
            "padding": null,
            "right": null,
            "top": null,
            "visibility": null,
            "width": null
          }
        },
        "d0b12c16a0644a96b513b931f24ef56f": {
          "model_module": "@jupyter-widgets/controls",
          "model_module_version": "1.5.0",
          "model_name": "DescriptionStyleModel",
          "state": {
            "_model_module": "@jupyter-widgets/controls",
            "_model_module_version": "1.5.0",
            "_model_name": "DescriptionStyleModel",
            "_view_count": null,
            "_view_module": "@jupyter-widgets/base",
            "_view_module_version": "1.2.0",
            "_view_name": "StyleView",
            "description_width": ""
          }
        },
        "d5bae80c73674567bf75508d21d23c02": {
          "model_module": "@jupyter-widgets/base",
          "model_module_version": "1.2.0",
          "model_name": "LayoutModel",
          "state": {
            "_model_module": "@jupyter-widgets/base",
            "_model_module_version": "1.2.0",
            "_model_name": "LayoutModel",
            "_view_count": null,
            "_view_module": "@jupyter-widgets/base",
            "_view_module_version": "1.2.0",
            "_view_name": "LayoutView",
            "align_content": null,
            "align_items": null,
            "align_self": null,
            "border": null,
            "bottom": null,
            "display": null,
            "flex": null,
            "flex_flow": null,
            "grid_area": null,
            "grid_auto_columns": null,
            "grid_auto_flow": null,
            "grid_auto_rows": null,
            "grid_column": null,
            "grid_gap": null,
            "grid_row": null,
            "grid_template_areas": null,
            "grid_template_columns": null,
            "grid_template_rows": null,
            "height": null,
            "justify_content": null,
            "justify_items": null,
            "left": null,
            "margin": null,
            "max_height": null,
            "max_width": null,
            "min_height": null,
            "min_width": null,
            "object_fit": null,
            "object_position": null,
            "order": null,
            "overflow": null,
            "overflow_x": null,
            "overflow_y": null,
            "padding": null,
            "right": null,
            "top": null,
            "visibility": null,
            "width": null
          }
        },
        "d7b8a1001f91468c9a0c91990ff75b7a": {
          "model_module": "@jupyter-widgets/controls",
          "model_module_version": "1.5.0",
          "model_name": "HBoxModel",
          "state": {
            "_dom_classes": [],
            "_model_module": "@jupyter-widgets/controls",
            "_model_module_version": "1.5.0",
            "_model_name": "HBoxModel",
            "_view_count": null,
            "_view_module": "@jupyter-widgets/controls",
            "_view_module_version": "1.5.0",
            "_view_name": "HBoxView",
            "box_style": "",
            "children": [
              "IPY_MODEL_8b8e0d9a7c034d438a4a1f085dfc7fb5",
              "IPY_MODEL_45191ef2553242b8af3ca4e9f7f06540",
              "IPY_MODEL_814b821538e04f48925c46a78d6920f8"
            ],
            "layout": "IPY_MODEL_16788087713d4d9fbfc99b1235224e49"
          }
        },
        "ddca0def4ba8482da6a55710dc39f038": {
          "model_module": "@jupyter-widgets/controls",
          "model_module_version": "1.5.0",
          "model_name": "DescriptionStyleModel",
          "state": {
            "_model_module": "@jupyter-widgets/controls",
            "_model_module_version": "1.5.0",
            "_model_name": "DescriptionStyleModel",
            "_view_count": null,
            "_view_module": "@jupyter-widgets/base",
            "_view_module_version": "1.2.0",
            "_view_name": "StyleView",
            "description_width": ""
          }
        },
        "e50763013caa4f46b35ef120f59be06a": {
          "model_module": "@jupyter-widgets/controls",
          "model_module_version": "1.5.0",
          "model_name": "ProgressStyleModel",
          "state": {
            "_model_module": "@jupyter-widgets/controls",
            "_model_module_version": "1.5.0",
            "_model_name": "ProgressStyleModel",
            "_view_count": null,
            "_view_module": "@jupyter-widgets/base",
            "_view_module_version": "1.2.0",
            "_view_name": "StyleView",
            "bar_color": null,
            "description_width": ""
          }
        },
        "e5702faf42da4841affb55b5174ae7ba": {
          "model_module": "@jupyter-widgets/base",
          "model_module_version": "1.2.0",
          "model_name": "LayoutModel",
          "state": {
            "_model_module": "@jupyter-widgets/base",
            "_model_module_version": "1.2.0",
            "_model_name": "LayoutModel",
            "_view_count": null,
            "_view_module": "@jupyter-widgets/base",
            "_view_module_version": "1.2.0",
            "_view_name": "LayoutView",
            "align_content": null,
            "align_items": null,
            "align_self": null,
            "border": null,
            "bottom": null,
            "display": null,
            "flex": null,
            "flex_flow": null,
            "grid_area": null,
            "grid_auto_columns": null,
            "grid_auto_flow": null,
            "grid_auto_rows": null,
            "grid_column": null,
            "grid_gap": null,
            "grid_row": null,
            "grid_template_areas": null,
            "grid_template_columns": null,
            "grid_template_rows": null,
            "height": null,
            "justify_content": null,
            "justify_items": null,
            "left": null,
            "margin": null,
            "max_height": null,
            "max_width": null,
            "min_height": null,
            "min_width": null,
            "object_fit": null,
            "object_position": null,
            "order": null,
            "overflow": null,
            "overflow_x": null,
            "overflow_y": null,
            "padding": null,
            "right": null,
            "top": null,
            "visibility": null,
            "width": null
          }
        },
        "e8eb65087dcd4c7589d79430cbf58fd6": {
          "model_module": "@jupyter-widgets/controls",
          "model_module_version": "1.5.0",
          "model_name": "ProgressStyleModel",
          "state": {
            "_model_module": "@jupyter-widgets/controls",
            "_model_module_version": "1.5.0",
            "_model_name": "ProgressStyleModel",
            "_view_count": null,
            "_view_module": "@jupyter-widgets/base",
            "_view_module_version": "1.2.0",
            "_view_name": "StyleView",
            "bar_color": null,
            "description_width": ""
          }
        },
        "eb531f081e08442ea266a97c9b64584b": {
          "model_module": "@jupyter-widgets/controls",
          "model_module_version": "1.5.0",
          "model_name": "DescriptionStyleModel",
          "state": {
            "_model_module": "@jupyter-widgets/controls",
            "_model_module_version": "1.5.0",
            "_model_name": "DescriptionStyleModel",
            "_view_count": null,
            "_view_module": "@jupyter-widgets/base",
            "_view_module_version": "1.2.0",
            "_view_name": "StyleView",
            "description_width": ""
          }
        },
        "f8ac22c830c24331833e92929bb9c1c2": {
          "model_module": "@jupyter-widgets/controls",
          "model_module_version": "1.5.0",
          "model_name": "DescriptionStyleModel",
          "state": {
            "_model_module": "@jupyter-widgets/controls",
            "_model_module_version": "1.5.0",
            "_model_name": "DescriptionStyleModel",
            "_view_count": null,
            "_view_module": "@jupyter-widgets/base",
            "_view_module_version": "1.2.0",
            "_view_name": "StyleView",
            "description_width": ""
          }
        },
        "ff4569da655843b78192ea16b6a97cba": {
          "model_module": "@jupyter-widgets/base",
          "model_module_version": "1.2.0",
          "model_name": "LayoutModel",
          "state": {
            "_model_module": "@jupyter-widgets/base",
            "_model_module_version": "1.2.0",
            "_model_name": "LayoutModel",
            "_view_count": null,
            "_view_module": "@jupyter-widgets/base",
            "_view_module_version": "1.2.0",
            "_view_name": "LayoutView",
            "align_content": null,
            "align_items": null,
            "align_self": null,
            "border": null,
            "bottom": null,
            "display": null,
            "flex": null,
            "flex_flow": null,
            "grid_area": null,
            "grid_auto_columns": null,
            "grid_auto_flow": null,
            "grid_auto_rows": null,
            "grid_column": null,
            "grid_gap": null,
            "grid_row": null,
            "grid_template_areas": null,
            "grid_template_columns": null,
            "grid_template_rows": null,
            "height": null,
            "justify_content": null,
            "justify_items": null,
            "left": null,
            "margin": null,
            "max_height": null,
            "max_width": null,
            "min_height": null,
            "min_width": null,
            "object_fit": null,
            "object_position": null,
            "order": null,
            "overflow": null,
            "overflow_x": null,
            "overflow_y": null,
            "padding": null,
            "right": null,
            "top": null,
            "visibility": null,
            "width": null
          }
        }
      }
    },
    "interpreter": {
      "hash": "31f2aee4e71d21fbe5cf8b01ff0e069b9275f58929596ceb00d14d90e3e16cd6"
    }
  },
  "nbformat": 4,
  "nbformat_minor": 5
}